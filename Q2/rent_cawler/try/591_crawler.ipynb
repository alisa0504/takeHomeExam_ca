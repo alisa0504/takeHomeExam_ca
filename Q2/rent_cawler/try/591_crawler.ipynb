{
 "cells": [
  {
   "cell_type": "markdown",
   "metadata": {},
   "source": [
    "1. 利⽤爬網技術取得 【 591 房屋交易租屋網 】 中，位於 【 臺北及新北 】 的所有 【 租屋物件資料 】 "
   ]
  },
  {
   "cell_type": "markdown",
   "metadata": {},
   "source": [
    "https://rent.591.com.tw/?kind=0&region=1"
   ]
  },
  {
   "cell_type": "code",
   "execution_count": 15,
   "metadata": {
    "collapsed": true
   },
   "outputs": [],
   "source": [
    "import json\n",
    "import os\n",
    "import pandas as pd\n",
    "import re\n",
    "import requests\n",
    "import time\n",
    "\n",
    "from bs4 import BeautifulSoup as bs\n",
    "from lxml import etree\n",
    "from pprint import pprint\n",
    "from pyquery import PyQuery as pq\n",
    "from selenium import webdriver\n",
    "from urllib.parse import urlencode\n",
    "\n",
    "headers = {\n",
    "    'user-agent': 'Mozilla/5.0 (Windows NT 6.3; Win64; x64) AppleWebKit/537.36 (KHTML, like Gecko) Chrome/71.0.3578.98 Safari/537.36'}"
   ]
  },
  {
   "cell_type": "code",
   "execution_count": 16,
   "metadata": {
    "collapsed": true
   },
   "outputs": [],
   "source": [
    "index_url='https://rent.591.com.tw/'"
   ]
  },
  {
   "cell_type": "code",
   "execution_count": 17,
   "metadata": {
    "collapsed": true
   },
   "outputs": [],
   "source": [
    "client = requests.session()"
   ]
  },
  {
   "cell_type": "code",
   "execution_count": 18,
   "metadata": {
    "collapsed": true
   },
   "outputs": [],
   "source": [
    "res = client.get(index_url,headers=headers)"
   ]
  },
  {
   "cell_type": "markdown",
   "metadata": {},
   "source": [
    "## 轉換到台北"
   ]
  },
  {
   "cell_type": "code",
   "execution_count": 38,
   "metadata": {},
   "outputs": [],
   "source": [
    "res.cookies['urlJumpIp']='1'"
   ]
  },
  {
   "cell_type": "code",
   "execution_count": 47,
   "metadata": {},
   "outputs": [
    {
     "data": {
      "text/plain": [
       "{'591_new_session': 'eyJpdiI6IklFWFUwZEpLbjJzRTByUFo5NHVhUFE9PSIsInZhbHVlIjoicElscXV5NFwvVjRTTXQ0T3ZlOGtvUjdCdkVEOGVzZzFoK0JtbCtVczRvMWpNVWg4bkthWlZRMktxUlhLaVJFVjhIU0Vpek1CUHdGZEJ6WkxXdFgwaGRRPT0iLCJtYWMiOiI3OTUwNDBjMTc2NDE0MzJlMGUwYzIxMGEyMGMyYjEyZDFmNjIyZjBmNDYyNmYyNmMyZWU4MTM3M2IyNTlhZDdiIn0%3D',\n",
       " 'PHPSESSID': 'ai4smg2vpbn2kmt9vtbunhhnh5',\n",
       " 'new_rent_list_kind_test': '1',\n",
       " 'urlJumpIp': '6',\n",
       " 'urlJumpIpByTxt': '%E6%A1%83%E5%9C%92%E5%B8%82',\n",
       " 'webp': '1'}"
      ]
     },
     "execution_count": 47,
     "metadata": {},
     "output_type": "execute_result"
    }
   ],
   "source": [
    "res.cookies.get_dict()"
   ]
  },
  {
   "cell_type": "code",
   "execution_count": null,
   "metadata": {
    "collapsed": true
   },
   "outputs": [],
   "source": [
    "soup = bs(res.text, \"lxml\")"
   ]
  },
  {
   "cell_type": "code",
   "execution_count": null,
   "metadata": {},
   "outputs": [],
   "source": [
    "soup"
   ]
  },
  {
   "cell_type": "code",
   "execution_count": null,
   "metadata": {
    "collapsed": true
   },
   "outputs": [],
   "source": [
    "totalRows = soup.select('#container > section.listBox > div > div.listLeft > div.page-limit > div > a.pageNext')[0]['data-total']"
   ]
  },
  {
   "cell_type": "markdown",
   "metadata": {},
   "source": [
    "## 抓 csrf-token"
   ]
  },
  {
   "cell_type": "code",
   "execution_count": null,
   "metadata": {
    "collapsed": true
   },
   "outputs": [],
   "source": [
    "CSRF_TOKEN = [i['content'] for i in soup.select('head > meta[\\'name\\']') if i['name']==\"csrf-token\"][0]"
   ]
  },
  {
   "cell_type": "code",
   "execution_count": null,
   "metadata": {
    "collapsed": true
   },
   "outputs": [],
   "source": [
    "def get_searchUrl(region):\n",
    "    params = {\n",
    "        'is_new_list': 1,\n",
    "        'type': 1,\n",
    "        'kind':0,\n",
    "        'searchtype':1,\n",
    "        'region':region,\n",
    "        'firstRow=':30,\n",
    "        'totalRows':totalRows\n",
    "    }\n",
    "    base_url = 'https://rent.591.com.tw/home/search/rsList?'\n",
    "    url = base_url + urlencode(params)\n",
    "    return url"
   ]
  },
  {
   "cell_type": "code",
   "execution_count": null,
   "metadata": {
    "collapsed": true
   },
   "outputs": [],
   "source": [
    "search_url = get_searchUrl(1)"
   ]
  },
  {
   "cell_type": "code",
   "execution_count": null,
   "metadata": {
    "collapsed": true
   },
   "outputs": [],
   "source": [
    "headers['X-CSRF-Token'] = CSRF_TOKEN"
   ]
  },
  {
   "cell_type": "code",
   "execution_count": null,
   "metadata": {
    "collapsed": true
   },
   "outputs": [],
   "source": [
    "res_search = client.get(search_url,headers=headers)"
   ]
  },
  {
   "cell_type": "code",
   "execution_count": null,
   "metadata": {
    "collapsed": true
   },
   "outputs": [],
   "source": [
    "res_search.encoding = 'utf-8'"
   ]
  },
  {
   "cell_type": "code",
   "execution_count": null,
   "metadata": {
    "collapsed": true
   },
   "outputs": [],
   "source": [
    "data = json.loads(res_search.text)"
   ]
  },
  {
   "cell_type": "code",
   "execution_count": null,
   "metadata": {},
   "outputs": [],
   "source": [
    "data.keys()"
   ]
  },
  {
   "cell_type": "code",
   "execution_count": null,
   "metadata": {
    "scrolled": true
   },
   "outputs": [],
   "source": [
    "len([i['id'] for i in data['data']['data']])"
   ]
  },
  {
   "cell_type": "code",
   "execution_count": null,
   "metadata": {
    "collapsed": true
   },
   "outputs": [],
   "source": [
    "hid = [i['id'] for i in data['data']['data']][0]"
   ]
  },
  {
   "cell_type": "code",
   "execution_count": null,
   "metadata": {
    "collapsed": true
   },
   "outputs": [],
   "source": [
    "detail_url = 'https://rent.591.com.tw/rent-detail-'+ str(hid) +'.html'"
   ]
  },
  {
   "cell_type": "code",
   "execution_count": null,
   "metadata": {
    "collapsed": true
   },
   "outputs": [],
   "source": [
    "res_detail = requests.get(detail_url,headers=headers)"
   ]
  },
  {
   "cell_type": "code",
   "execution_count": null,
   "metadata": {},
   "outputs": [],
   "source": [
    "print(res_detail.text)"
   ]
  },
  {
   "cell_type": "code",
   "execution_count": null,
   "metadata": {
    "collapsed": true
   },
   "outputs": [],
   "source": [
    "soup_detail = bs(res_detail.text, \"lxml\")"
   ]
  },
  {
   "cell_type": "code",
   "execution_count": null,
   "metadata": {
    "collapsed": true
   },
   "outputs": [],
   "source": [
    "#main > div.main_house_info.clearfix > div.detailBox.clearfix > div.rightBox > div.userInfo > div.infoOne.clearfix > div.avatarRight > div \n",
    "> i"
   ]
  },
  {
   "cell_type": "code",
   "execution_count": null,
   "metadata": {
    "collapsed": true
   },
   "outputs": [],
   "source": [
    "#main > div.main_house_info.clearfix > div.detailBox.clearfix > div.rightBox > div.detailInfo.clearfix > ul"
   ]
  },
  {
   "cell_type": "code",
   "execution_count": null,
   "metadata": {
    "collapsed": true
   },
   "outputs": [],
   "source": [
    "attr = [''.join(i.text.split()) for i in soup_detail.select('ul.attr > li')]"
   ]
  },
  {
   "cell_type": "code",
   "execution_count": null,
   "metadata": {
    "scrolled": true
   },
   "outputs": [],
   "source": [
    "#性別要求 男女生皆可\n",
    "soup_detail.select('div.two')"
   ]
  },
  {
   "cell_type": "code",
   "execution_count": null,
   "metadata": {
    "collapsed": true
   },
   "outputs": [],
   "source": [
    "#main > div.main_house_info.clearfix > div.detailBox.clearfix > div.leftBox > ul.clearfix.labelList.labelList-1 > li:nth-child(7) > div.two > em"
   ]
  },
  {
   "cell_type": "code",
   "execution_count": null,
   "metadata": {
    "collapsed": true
   },
   "outputs": [],
   "source": [
    "out_rec={\n",
    "    '出租者':soup_detail.select('div.avatarRight > div')[0].select('i')[0].text,\n",
    "    '出租者身份':soup_detail.select('div.avatarRight > div')[0].text.split('（')[1].split('）')[0],\n",
    "    '聯絡電話':soup_detail.select('span.dialPhoneNum')[0]['data-value'],\n",
    "    attr[0].split(':')[0]:attr[0].split(':')[1],\n",
    "    attr[1].split(':')[0]:attr[1].split(':')[1],\n",
    "    attr[2].split(':')[0]:attr[2].split(':')[1],\n",
    "    attr[3].split(':')[0]:attr[3].split(':')[1],\n",
    "}"
   ]
  },
  {
   "cell_type": "code",
   "execution_count": null,
   "metadata": {},
   "outputs": [],
   "source": [
    "out_rec"
   ]
  }
 ],
 "metadata": {
  "kernelspec": {
   "display_name": "Python 3",
   "language": "python",
   "name": "python3"
  },
  "language_info": {
   "codemirror_mode": {
    "name": "ipython",
    "version": 3
   },
   "file_extension": ".py",
   "mimetype": "text/x-python",
   "name": "python",
   "nbconvert_exporter": "python",
   "pygments_lexer": "ipython3",
   "version": "3.6.1"
  }
 },
 "nbformat": 4,
 "nbformat_minor": 2
}
