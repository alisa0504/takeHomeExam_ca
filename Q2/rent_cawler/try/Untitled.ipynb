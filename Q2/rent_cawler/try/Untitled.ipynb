{
 "cells": [
  {
   "cell_type": "code",
   "execution_count": 1,
   "metadata": {
    "collapsed": true
   },
   "outputs": [],
   "source": [
    "from bs4 import BeautifulSoup as bs\n",
    "from lxml import etree\n",
    "from pprint import pprint\n",
    "from pyquery import PyQuery as pq\n",
    "from selenium import webdriver\n",
    "from urllib.parse import urlencode\n",
    "import json\n",
    "import os\n",
    "import pandas as pd\n",
    "import re\n",
    "import requests\n",
    "import time"
   ]
  },
  {
   "cell_type": "code",
   "execution_count": 2,
   "metadata": {
    "collapsed": true
   },
   "outputs": [],
   "source": [
    "headers = {\n",
    "    'user-agent': 'Mozilla/5.0 (Windows NT 6.3; Win64; x64) AppleWebKit/537.36 (KHTML, like Gecko) Chrome/71.0.3578.98 Safari/537.36'}"
   ]
  },
  {
   "cell_type": "code",
   "execution_count": 3,
   "metadata": {
    "collapsed": true
   },
   "outputs": [],
   "source": [
    "region_map = {\n",
    "    '台北市':'1',\n",
    "    '基隆市':'2',\n",
    "    '新北市':'3',\n",
    "    '新竹市':'4',\n",
    "    '新竹縣':'5',\n",
    "    '桃園市':'6',\n",
    "    '苗栗縣':'7',\n",
    "    '台中市':'8',\n",
    "    '彰化縣':'10',\n",
    "    '南投縣':'11',\n",
    "    '嘉義市':'12',\n",
    "    '嘉義縣':'13',\n",
    "    '雲林縣':'14',\n",
    "    '台南市':'15',\n",
    "    '高雄市':'17',\n",
    "    '屏東縣':'19',\n",
    "    '宜蘭縣':'21',\n",
    "    '台東縣':'22',\n",
    "    '花蓮縣':'23',\n",
    "    '澎湖縣':'24',\n",
    "    '金門縣':'25',\n",
    "    '連江縣':'26',\n",
    "}"
   ]
  },
  {
   "cell_type": "code",
   "execution_count": 4,
   "metadata": {
    "collapsed": true
   },
   "outputs": [],
   "source": [
    "client = requests.session()"
   ]
  },
  {
   "cell_type": "code",
   "execution_count": 5,
   "metadata": {
    "collapsed": true
   },
   "outputs": [],
   "source": [
    "def get_var(client,region,headers):\n",
    "    index_url='https://rent.591.com.tw/?kind=0&regionid='+region_map[region]\n",
    "    res = client.get(index_url,headers=headers)\n",
    "    res.encoding = 'utf-8'\n",
    "    res.cookies['urlJumpIp']= region_map[region]\n",
    "#     print(res.cookies.get_dict())\n",
    "    soup = bs(res.text, \"lxml\")\n",
    "#     print(soup.select('head > meta'))\n",
    "\n",
    "    totalRows = soup.select('#container > section.listBox > div > div.listLeft > div.page-limit > div > a.pageNext')[0]['data-total']\n",
    "    CSRF_TOKEN = [i['content'] for i in soup.select('head > meta[name]') if i['name']==\"csrf-token\"][0]\n",
    "    return (totalRows ,CSRF_TOKEN)"
   ]
  },
  {
   "cell_type": "code",
   "execution_count": 6,
   "metadata": {
    "collapsed": true
   },
   "outputs": [],
   "source": [
    "def get_searchUrl(firstRow,region,headers):\n",
    "    params = {\n",
    "        'is_new_list': 1,\n",
    "        'type': 1,\n",
    "        'kind':0,\n",
    "        'searchtype':1,\n",
    "        'region':region_map[region],\n",
    "        'firstRow':(firstRow*30),\n",
    "        'totalRows':get_var(client,region,headers)[0]\n",
    "    }\n",
    "    base_url = 'https://rent.591.com.tw/home/search/rsList?'\n",
    "    url = base_url + urlencode(params)\n",
    "    return url"
   ]
  },
  {
   "cell_type": "code",
   "execution_count": 7,
   "metadata": {
    "collapsed": true
   },
   "outputs": [],
   "source": [
    "from pprint import pprint"
   ]
  },
  {
   "cell_type": "code",
   "execution_count": 8,
   "metadata": {
    "collapsed": true
   },
   "outputs": [],
   "source": [
    "import math"
   ]
  },
  {
   "cell_type": "code",
   "execution_count": 58,
   "metadata": {},
   "outputs": [],
   "source": [
    "def get_searchUrlist(client,region,headers):\n",
    "    vars = get_var(client,region,headers)\n",
    "    headers['X-CSRF-Token'] = vars[1]\n",
    "    times = math.floor(int(vars[0])/30) +1 if int(vars[0])%30 !=0 else math.floor(int(vars[0])/30)\n",
    "    searchUrlist=[]\n",
    "    for firstRow in range(times):\n",
    "        searchUrl = get_searchUrl(firstRow,region,headers)\n",
    "#         print(searchUrl)\n",
    "        res_search = client.get(searchUrl,headers=headers)\n",
    "        res_search.encoding = 'utf-8'\n",
    "        data = json.loads(res_search.text)\n",
    "#         print(data['data']['data'][0]['post_id'])\n",
    "        rent_list = [[i['post_id'],i['region_name']+' '+i['fulladdress'],'https://rent.591.com.tw/rent-detail-'+str(i['post_id'])+'.html'] for i in data['data']['data']]\n",
    "#         print(rent_list[0])\n",
    "        searchUrlist.extend(rent_list)     \n",
    "    return searchUrlist\n",
    "        "
   ]
  },
  {
   "cell_type": "code",
   "execution_count": 20,
   "metadata": {},
   "outputs": [],
   "source": [
    "vars = get_var(client,'花蓮縣',headers)"
   ]
  },
  {
   "cell_type": "code",
   "execution_count": 21,
   "metadata": {
    "collapsed": true
   },
   "outputs": [],
   "source": [
    "headers['X-CSRF-Token'] = vars[1]"
   ]
  },
  {
   "cell_type": "code",
   "execution_count": 22,
   "metadata": {
    "collapsed": true
   },
   "outputs": [],
   "source": [
    "url = 'https://rent.591.com.tw/home/search/rsList?is_new_list=1&type=1&kind=0&searchtype=1&region=23&firstRow=0&totalRows=394'"
   ]
  },
  {
   "cell_type": "code",
   "execution_count": 23,
   "metadata": {
    "collapsed": true
   },
   "outputs": [],
   "source": [
    "res = client.get(url,headers=headers)"
   ]
  },
  {
   "cell_type": "code",
   "execution_count": 24,
   "metadata": {
    "collapsed": true
   },
   "outputs": [],
   "source": [
    "res.encoding = 'utf-8'"
   ]
  },
  {
   "cell_type": "code",
   "execution_count": 25,
   "metadata": {},
   "outputs": [],
   "source": [
    "data = json.loads(res.text)"
   ]
  },
  {
   "cell_type": "code",
   "execution_count": 63,
   "metadata": {},
   "outputs": [],
   "source": [
    "a = [[i['post_id'],i['region_name']+' '+i['fulladdress'],'https://rent.591.com.tw/rent-detail-'+str(i['post_id'])+'.html'] for i in data['data']['data']][0]"
   ]
  },
  {
   "cell_type": "code",
   "execution_count": 64,
   "metadata": {},
   "outputs": [
    {
     "data": {
      "text/plain": [
       "[8935215,\n",
       " '花蓮縣 延平街148巷正市區。近花商、85度c',\n",
       " 'https://rent.591.com.tw/rent-detail-8935215.html']"
      ]
     },
     "execution_count": 64,
     "metadata": {},
     "output_type": "execute_result"
    }
   ],
   "source": [
    "a"
   ]
  },
  {
   "cell_type": "code",
   "execution_count": 50,
   "metadata": {},
   "outputs": [
    {
     "data": {
      "text/plain": [
       "dict_keys([8935215])"
      ]
     },
     "execution_count": 50,
     "metadata": {},
     "output_type": "execute_result"
    }
   ],
   "source": [
    "c"
   ]
  },
  {
   "cell_type": "code",
   "execution_count": 11,
   "metadata": {
    "scrolled": true
   },
   "outputs": [
    {
     "name": "stdout",
     "output_type": "stream",
     "text": [
      "https://rent.591.com.tw/home/search/rsList?is_new_list=1&type=1&kind=0&searchtype=1&region=23&firstRow=0&totalRows=394\n",
      "https://rent.591.com.tw/home/search/rsList?is_new_list=1&type=1&kind=0&searchtype=1&region=23&firstRow=30&totalRows=394\n",
      "https://rent.591.com.tw/home/search/rsList?is_new_list=1&type=1&kind=0&searchtype=1&region=23&firstRow=60&totalRows=394\n",
      "https://rent.591.com.tw/home/search/rsList?is_new_list=1&type=1&kind=0&searchtype=1&region=23&firstRow=90&totalRows=394\n",
      "https://rent.591.com.tw/home/search/rsList?is_new_list=1&type=1&kind=0&searchtype=1&region=23&firstRow=120&totalRows=394\n",
      "https://rent.591.com.tw/home/search/rsList?is_new_list=1&type=1&kind=0&searchtype=1&region=23&firstRow=150&totalRows=394\n",
      "https://rent.591.com.tw/home/search/rsList?is_new_list=1&type=1&kind=0&searchtype=1&region=23&firstRow=180&totalRows=394\n",
      "https://rent.591.com.tw/home/search/rsList?is_new_list=1&type=1&kind=0&searchtype=1&region=23&firstRow=210&totalRows=394\n",
      "https://rent.591.com.tw/home/search/rsList?is_new_list=1&type=1&kind=0&searchtype=1&region=23&firstRow=240&totalRows=394\n",
      "https://rent.591.com.tw/home/search/rsList?is_new_list=1&type=1&kind=0&searchtype=1&region=23&firstRow=270&totalRows=394\n",
      "https://rent.591.com.tw/home/search/rsList?is_new_list=1&type=1&kind=0&searchtype=1&region=23&firstRow=300&totalRows=394\n",
      "https://rent.591.com.tw/home/search/rsList?is_new_list=1&type=1&kind=0&searchtype=1&region=23&firstRow=330&totalRows=394\n",
      "https://rent.591.com.tw/home/search/rsList?is_new_list=1&type=1&kind=0&searchtype=1&region=23&firstRow=360&totalRows=394\n",
      "https://rent.591.com.tw/home/search/rsList?is_new_list=1&type=1&kind=0&searchtype=1&region=23&firstRow=390&totalRows=394\n",
      "CPU times: user 1.95 s, sys: 67 ms, total: 2.02 s\n",
      "Wall time: 17.3 s\n"
     ]
    }
   ],
   "source": [
    "%time searchUrl = get_searchUrlist(client,'花蓮縣',headers)"
   ]
  },
  {
   "cell_type": "code",
   "execution_count": 17,
   "metadata": {},
   "outputs": [
    {
     "data": {
      "text/plain": [
       "394"
      ]
     },
     "execution_count": 17,
     "metadata": {},
     "output_type": "execute_result"
    }
   ],
   "source": [
    "len(searchUrl)"
   ]
  },
  {
   "cell_type": "code",
   "execution_count": 115,
   "metadata": {
    "scrolled": false
   },
   "outputs": [
    {
     "data": {
      "text/plain": [
       "{'name': '葉小姐',\n",
       " 'dialPhone': '0925-610-909',\n",
       " 'hid_tel': '03-8533607',\n",
       " 'hid_email': 'wilun.masa@gmail.com',\n",
       " 'price': '42,000 元/月 ',\n",
       " '押金': '二個月',\n",
       " '車位': '平面式停車位，已含租金內',\n",
       " '管理費': '--',\n",
       " '最短租期': '兩年',\n",
       " '開伙': '不可以',\n",
       " '養寵物': '不可以',\n",
       " '身份要求': '學生、上班族、家庭',\n",
       " '朝向': '坐西北朝東南',\n",
       " '可遷入日': '隨時',\n",
       " '法定用途': '住家用',\n",
       " '建物面積': '67.00坪（不含公設）',\n",
       " '產權登記': '已辦',\n",
       " '格局': '5房2廳5衛5陽台',\n",
       " '坪數': '73坪',\n",
       " '樓層': '整棟/4F',\n",
       " '型態': '別墅',\n",
       " '現況': '整層住家'}"
      ]
     },
     "execution_count": 115,
     "metadata": {},
     "output_type": "execute_result"
    }
   ],
   "source": [
    "get_house(searchUrl[:10],headers)[0]"
   ]
  },
  {
   "cell_type": "code",
   "execution_count": 113,
   "metadata": {
    "collapsed": true
   },
   "outputs": [],
   "source": [
    "def get_house(searchUrl,headers):\n",
    "    houses=[]\n",
    "    for url in searchUrl:\n",
    "        detail_url = url[1]\n",
    "        res_detail = requests.get(detail_url,headers=headers)\n",
    "        soup_detail = bs(res_detail.text, \"lxml\")\n",
    "        hid_tel =  soup_detail.select('div.userInfo > div > input#hid_tel')[0]['value'] \n",
    "        hid_email = soup_detail.select('div.userInfo > div > input#hid_email')[0]['value']\n",
    "        infs = [{j[0].text.replace(' ',''):j[1].text.replace(' ','').replace('：','') for j in  zip(i.select('div.one'),i.select('div.two'))} for i in soup_detail.select('ul.clearfix.labelList.labelList-1 > li')]\n",
    "        attrs = [{''.join(i.text.split(':')[0].split()):''.join(i.text.split(':')[1].split()) } for i in soup_detail.select('ul.attr > li')]\n",
    "        out_rec = {\n",
    "            'name':soup_detail.select('div.userInfo > div > span.kfCallName')[0]['data-name'],\n",
    "            'dialPhone' : soup_detail.select('div.userInfo > div > span.dialPhoneNum')[0]['data-value'],\n",
    "            'hid_tel' : hid_tel if \"hid_tel\" in locals() else None,\n",
    "            'hid_email' : hid_email if \"hid_email\" in locals() else None,\n",
    "            'price':soup_detail.select('div.price')[0].text.split('\\n')[1],\n",
    "            \n",
    "        }\n",
    "        [out_rec.update(inf) for inf in infs]\n",
    "        [out_rec.update(attr) for attr in attrs]\n",
    "        houses.append(out_rec)\n",
    "    return houses\n",
    "        "
   ]
  },
  {
   "cell_type": "code",
   "execution_count": 95,
   "metadata": {
    "collapsed": true
   },
   "outputs": [],
   "source": [
    "s = {'a':1,'b':2}"
   ]
  },
  {
   "cell_type": "code",
   "execution_count": 96,
   "metadata": {
    "collapsed": true
   },
   "outputs": [],
   "source": [
    "p = [{'c':3},{'d':4}]"
   ]
  },
  {
   "cell_type": "code",
   "execution_count": 98,
   "metadata": {},
   "outputs": [
    {
     "data": {
      "text/plain": [
       "[None, None]"
      ]
     },
     "execution_count": 98,
     "metadata": {},
     "output_type": "execute_result"
    }
   ],
   "source": [
    "[s.update(i) for i in p]"
   ]
  },
  {
   "cell_type": "code",
   "execution_count": 99,
   "metadata": {},
   "outputs": [
    {
     "data": {
      "text/plain": [
       "{'a': 1, 'b': 2, 'c': 3, 'd': 4}"
      ]
     },
     "execution_count": 99,
     "metadata": {},
     "output_type": "execute_result"
    }
   ],
   "source": [
    "s"
   ]
  },
  {
   "cell_type": "code",
   "execution_count": 16,
   "metadata": {
    "scrolled": true
   },
   "outputs": [
    {
     "data": {
      "text/plain": [
       "'https://rent.591.com.tw/rent-detail-8815370.html'"
      ]
     },
     "execution_count": 16,
     "metadata": {},
     "output_type": "execute_result"
    }
   ],
   "source": [
    "searchUrl[0][1]"
   ]
  },
  {
   "cell_type": "code",
   "execution_count": 18,
   "metadata": {
    "collapsed": true
   },
   "outputs": [],
   "source": [
    "detail_url = searchUrl[0][1]"
   ]
  },
  {
   "cell_type": "code",
   "execution_count": 19,
   "metadata": {
    "collapsed": true
   },
   "outputs": [],
   "source": [
    "res_detail = requests.get(detail_url,headers=headers)"
   ]
  },
  {
   "cell_type": "code",
   "execution_count": 20,
   "metadata": {
    "collapsed": true
   },
   "outputs": [],
   "source": [
    "soup_detail = bs(res_detail.text, \"lxml\")"
   ]
  },
  {
   "cell_type": "code",
   "execution_count": 51,
   "metadata": {},
   "outputs": [
    {
     "data": {
      "text/plain": [
       "[{'押金': '二個月'},\n",
       " {'車位': '平面式停車位，已含租金內'},\n",
       " {'管理費': '--'},\n",
       " {'最短租期': '兩年'},\n",
       " {'開伙': '不可以'},\n",
       " {'養寵物': '不可以'},\n",
       " {'身份要求': '學生、上班族、家庭'},\n",
       " {'朝向': '坐西北朝東南'},\n",
       " {'可遷入日': '隨時'},\n",
       " {'法定用途': '住家用'},\n",
       " {'建物面積': '67.00坪（不含公設）'},\n",
       " {'產權登記': '已辦'}]"
      ]
     },
     "execution_count": 51,
     "metadata": {},
     "output_type": "execute_result"
    }
   ],
   "source": [
    "inf = [{j[0].text.replace(' ',''):j[1].text.replace(' ','').replace('：','') for j in  zip(i.select('div.one'),i.select('div.two'))} for i in soup_detail.select('ul.clearfix.labelList.labelList-1 > li')]\n",
    "inf"
   ]
  },
  {
   "cell_type": "code",
   "execution_count": 49,
   "metadata": {},
   "outputs": [
    {
     "data": {
      "text/plain": [
       "'42,000 元/月 '"
      ]
     },
     "execution_count": 49,
     "metadata": {},
     "output_type": "execute_result"
    }
   ],
   "source": [
    "# price = soup_detail.select('div.price')[0].text.split('\\n')[1]\n",
    "# price"
   ]
  },
  {
   "cell_type": "code",
   "execution_count": 60,
   "metadata": {},
   "outputs": [
    {
     "data": {
      "text/plain": [
       "[{'格局': '5房2廳5衛5陽台'},\n",
       " {'坪數': '73坪'},\n",
       " {'樓層': '整棟/4F'},\n",
       " {'型態': '別墅'},\n",
       " {'現況': '整層住家'}]"
      ]
     },
     "execution_count": 60,
     "metadata": {},
     "output_type": "execute_result"
    }
   ],
   "source": [
    "attrs = [{''.join(i.text.split(':')[0].split()):''.join(i.text.split(':')[1].split()) } for i in soup_detail.select('ul.attr > li')]\n",
    "attrs"
   ]
  },
  {
   "cell_type": "code",
   "execution_count": 71,
   "metadata": {
    "collapsed": true
   },
   "outputs": [],
   "source": [
    "name = soup_detail.select('div.userInfo > div > span.kfCallName')[0]['data-name']"
   ]
  },
  {
   "cell_type": "code",
   "execution_count": 76,
   "metadata": {
    "collapsed": true
   },
   "outputs": [],
   "source": [
    "dialPhone = soup_detail.select('div.userInfo > div > span.dialPhoneNum')[0]['data-value']"
   ]
  },
  {
   "cell_type": "code",
   "execution_count": 79,
   "metadata": {
    "collapsed": true
   },
   "outputs": [],
   "source": [
    "hid_tel = soup_detail.select('div.userInfo > div > input#hid_tel')[0]['value']"
   ]
  },
  {
   "cell_type": "code",
   "execution_count": 83,
   "metadata": {
    "collapsed": true
   },
   "outputs": [],
   "source": [
    "hid_email = soup_detail.select('div.userInfo > div > input#hid_email')[0]['value']"
   ]
  },
  {
   "cell_type": "code",
   "execution_count": 108,
   "metadata": {},
   "outputs": [
    {
     "name": "stdout",
     "output_type": "stream",
     "text": [
      "a\n"
     ]
    }
   ],
   "source": [
    "if \"hid_tel\" in locals():\n",
    "    print('a')"
   ]
  },
  {
   "cell_type": "code",
   "execution_count": null,
   "metadata": {
    "collapsed": true
   },
   "outputs": [],
   "source": []
  }
 ],
 "metadata": {
  "kernelspec": {
   "display_name": "Python 3",
   "language": "python",
   "name": "python3"
  },
  "language_info": {
   "codemirror_mode": {
    "name": "ipython",
    "version": 3
   },
   "file_extension": ".py",
   "mimetype": "text/x-python",
   "name": "python",
   "nbconvert_exporter": "python",
   "pygments_lexer": "ipython3",
   "version": "3.6.1"
  }
 },
 "nbformat": 4,
 "nbformat_minor": 2
}
