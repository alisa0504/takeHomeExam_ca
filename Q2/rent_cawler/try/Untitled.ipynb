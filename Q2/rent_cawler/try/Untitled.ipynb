{
 "cells": [
  {
   "cell_type": "code",
   "execution_count": 1,
   "metadata": {},
   "outputs": [],
   "source": [
    "from bs4 import BeautifulSoup as bs\n",
    "from lxml import etree\n",
    "from pprint import pprint\n",
    "from pyquery import PyQuery as pq\n",
    "from selenium import webdriver\n",
    "from urllib.parse import urlencode\n",
    "import json\n",
    "import os\n",
    "import pandas as pd\n",
    "import re\n",
    "import requests\n",
    "import time"
   ]
  },
  {
   "cell_type": "code",
   "execution_count": 2,
   "metadata": {},
   "outputs": [],
   "source": [
    "headers = {\n",
    "    'user-agent': 'Mozilla/5.0 (Windows NT 6.3; Win64; x64) AppleWebKit/537.36 (KHTML, like Gecko) Chrome/71.0.3578.98 Safari/537.36'}"
   ]
  },
  {
   "cell_type": "code",
   "execution_count": 3,
   "metadata": {},
   "outputs": [],
   "source": [
    "region_map = {\n",
    "    '台北市':'1',\n",
    "    '基隆市':'2',\n",
    "    '新北市':'3',\n",
    "    '新竹市':'4',\n",
    "    '新竹縣':'5',\n",
    "    '桃園市':'6',\n",
    "    '苗栗縣':'7',\n",
    "    '台中市':'8',\n",
    "    '彰化縣':'10',\n",
    "    '南投縣':'11',\n",
    "    '嘉義市':'12',\n",
    "    '嘉義縣':'13',\n",
    "    '雲林縣':'14',\n",
    "    '台南市':'15',\n",
    "    '高雄市':'17',\n",
    "    '屏東縣':'19',\n",
    "    '宜蘭縣':'21',\n",
    "    '台東縣':'22',\n",
    "    '花蓮縣':'23',\n",
    "    '澎湖縣':'24',\n",
    "    '金門縣':'25',\n",
    "    '連江縣':'26',\n",
    "}"
   ]
  },
  {
   "cell_type": "code",
   "execution_count": 4,
   "metadata": {},
   "outputs": [],
   "source": [
    "client = requests.session()"
   ]
  },
  {
   "cell_type": "code",
   "execution_count": 42,
   "metadata": {},
   "outputs": [],
   "source": [
    "def get_var(client,region,headers):\n",
    "    index_url='https://rent.591.com.tw/?kind=0&regionid='+region_map[region]\n",
    "    res = client.get(index_url,headers=headers)\n",
    "    res.encoding = 'utf-8'\n",
    "    res.cookies['urlJumpIp']= region_map[region]\n",
    "#     print(res.cookies.get_dict())\n",
    "    soup = bs(res.text, \"lxml\")\n",
    "#     print(soup.select('head > meta'))\n",
    "\n",
    "    totalRows = soup.select('#container > section.listBox > div > div.listLeft > div.page-limit > div > a.pageNext')[0]['data-total']\n",
    "    CSRF_TOKEN = [i['content'] for i in soup.select('head > meta[name]') if i['name']==\"csrf-token\"][0]\n",
    "    return (totalRows ,CSRF_TOKEN)"
   ]
  },
  {
   "cell_type": "code",
   "execution_count": 45,
   "metadata": {},
   "outputs": [],
   "source": [
    "def get_searchUrl(i,region,headers):\n",
    "    params = {\n",
    "        'is_new_list': 1,\n",
    "        'type': 1,\n",
    "        'kind':0,\n",
    "        'searchtype':1,\n",
    "        'region':region_map[region],\n",
    "        'firstRow=':30*(i+1),\n",
    "        'totalRows':get_var(client,region,headers)[0]\n",
    "    }\n",
    "    base_url = 'https://rent.591.com.tw/home/search/rsList?'\n",
    "    url = base_url + urlencode(params)\n",
    "    return url"
   ]
  },
  {
   "cell_type": "code",
   "execution_count": 46,
   "metadata": {},
   "outputs": [
    {
     "data": {
      "text/plain": [
       "'https://rent.591.com.tw/home/search/rsList?is_new_list=1&type=1&kind=0&searchtype=1&region=3&firstRow%3D=30&totalRows=9316'"
      ]
     },
     "execution_count": 46,
     "metadata": {},
     "output_type": "execute_result"
    }
   ],
   "source": [
    "get_searchUrl(0,'新北市',headers)"
   ]
  },
  {
   "cell_type": "code",
   "execution_count": 55,
   "metadata": {},
   "outputs": [],
   "source": [
    "from pprint import pprint"
   ]
  },
  {
   "cell_type": "code",
   "execution_count": null,
   "metadata": {},
   "outputs": [],
   "source": [
    "'https://rent.591.com.tw/'"
   ]
  },
  {
   "cell_type": "code",
   "execution_count": 72,
   "metadata": {},
   "outputs": [
    {
     "ename": "SyntaxError",
     "evalue": "invalid syntax (<ipython-input-72-db29fba31740>, line 13)",
     "output_type": "error",
     "traceback": [
      "\u001b[0;36m  File \u001b[0;32m\"<ipython-input-72-db29fba31740>\"\u001b[0;36m, line \u001b[0;32m13\u001b[0m\n\u001b[0;31m    rent_list = [(i['post_id'],'https://rent.591.com.tw/'+i['detail_url'] for i in data['data']['topData']]\u001b[0m\n\u001b[0m                                                                            ^\u001b[0m\n\u001b[0;31mSyntaxError\u001b[0m\u001b[0;31m:\u001b[0m invalid syntax\n"
     ]
    }
   ],
   "source": [
    "def get_searchUrlist(client,region,headers):\n",
    "    vars = get_var(client,region,headers)\n",
    "    headers['X-CSRF-Token'] = vars[1]\n",
    "    searchUrlist=[]\n",
    "    for i in range(round(60/30)):\n",
    "        searchUrl = get_searchUrl(i,region,headers)\n",
    "        print(i)\n",
    "        res_search = client.get(searchUrl,headers=headers)\n",
    "        res_search.encoding = 'utf-8'\n",
    "        data = json.loads(res_search.text)\n",
    "        pprint(data['data']['topData'][0])\n",
    "#         return data['data']['topData'][0]\n",
    "        rent_list = [(i['post_id'],'https://rent.591.com.tw/'+i['detail_url'] for i in data['data']['topData']]\n",
    "        print(len(rent_list))              \n",
    "        searchUrlist.extend(rent_list)\n",
    "    return searchUrlist\n",
    "        "
   ]
  },
  {
   "cell_type": "code",
   "execution_count": 73,
   "metadata": {},
   "outputs": [
    {
     "name": "stdout",
     "output_type": "stream",
     "text": [
      "0\n",
      "{'address': '大忠街郵局對面巷內鬧中取靜的優質套房',\n",
      " 'address_2': '大忠街郵局對面巷內鬧中取靜...',\n",
      " 'address_3': '大忠街郵局對面巷..',\n",
      " 'alt': '新北租屋,淡水租屋,獨立套房出租,大忠街郵局對面巷內鬧中取靜的優質套房',\n",
      " 'area': '5坪',\n",
      " 'classLast': 'class = \"last\"',\n",
      " 'detail_url': 'rent-detail-8891616.html',\n",
      " 'ico': 'rent-ico',\n",
      " 'img_src': 'https://hp2.591.com.tw/house/active/2013/12/25/138797133718597206_210x158.crop.jpg',\n",
      " 'isAd': 0,\n",
      " 'is_new_index': 0,\n",
      " 'is_new_list': 1,\n",
      " 'kind_str': '獨立套房',\n",
      " 'onepxImg': '',\n",
      " 'photoNum': 10,\n",
      " 'post_id': 8891616,\n",
      " 'price': '5,500',\n",
      " 'price_str': '5,500元',\n",
      " 'price_unit': '元/月',\n",
      " 'recom_num': 0,\n",
      " 'region': 3,\n",
      " 'regionid': 3,\n",
      " 'section_str': '淡水區',\n",
      " 'type': 1}\n",
      "1\n",
      "{'address': '昌平國小旁車位優惠出租中！',\n",
      " 'address_2': '昌平國小旁車位優惠出租中！...',\n",
      " 'address_3': '昌平國小旁車位優..',\n",
      " 'alt': '新北租屋,新莊租屋,車位出租,昌平國小旁車位優惠出租中！',\n",
      " 'area': '8坪',\n",
      " 'classLast': 'class = \"last\"',\n",
      " 'detail_url': 'rent-detail-8804680.html',\n",
      " 'ico': 'rent-ico',\n",
      " 'img_src': 'https://hp2.591.com.tw/house/active/2018/03/07/152041236215158600_210x158.crop.jpg',\n",
      " 'isAd': 0,\n",
      " 'is_new_index': 0,\n",
      " 'is_new_list': 1,\n",
      " 'kind_str': '車位',\n",
      " 'onepxImg': '',\n",
      " 'photoNum': 8,\n",
      " 'post_id': 8804680,\n",
      " 'price': '1,667',\n",
      " 'price_str': '1,667元',\n",
      " 'price_unit': '元/月',\n",
      " 'recom_num': 0,\n",
      " 'region': 3,\n",
      " 'regionid': 3,\n",
      " 'section_str': '新莊區',\n",
      " 'type': 1}\n",
      "CPU times: user 411 ms, sys: 12.8 ms, total: 424 ms\n",
      "Wall time: 3.41 s\n"
     ]
    }
   ],
   "source": [
    "%time searchUrlist = get_searchUrlist(client,'新北市',headers)"
   ]
  },
  {
   "cell_type": "code",
   "execution_count": null,
   "metadata": {
    "collapsed": true
   },
   "outputs": [],
   "source": []
  }
 ],
 "metadata": {
  "kernelspec": {
   "display_name": "Python 3",
   "language": "python",
   "name": "python3"
  },
  "language_info": {
   "codemirror_mode": {
    "name": "ipython",
    "version": 3
   },
   "file_extension": ".py",
   "mimetype": "text/x-python",
   "name": "python",
   "nbconvert_exporter": "python",
   "pygments_lexer": "ipython3",
   "version": "3.7.4"
  }
 },
 "nbformat": 4,
 "nbformat_minor": 2
}
